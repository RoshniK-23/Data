{
  "nbformat": 4,
  "nbformat_minor": 0,
  "metadata": {
    "colab": {
      "provenance": [],
      "include_colab_link": true
    },
    "kernelspec": {
      "name": "python3",
      "display_name": "Python 3"
    },
    "language_info": {
      "name": "python"
    }
  },
  "cells": [
    {
      "cell_type": "markdown",
      "metadata": {
        "id": "view-in-github",
        "colab_type": "text"
      },
      "source": [
        "<a href=\"https://colab.research.google.com/github/RoshniK-23/Data-Visualization/blob/main/ipl_analysis.ipynb\" target=\"_parent\"><img src=\"https://colab.research.google.com/assets/colab-badge.svg\" alt=\"Open In Colab\"/></a>"
      ]
    },
    {
      "cell_type": "code",
      "source": [
        "import pandas as pd"
      ],
      "metadata": {
        "id": "Ko5ih72zOlgl"
      },
      "execution_count": null,
      "outputs": []
    },
    {
      "cell_type": "code",
      "source": [
        "ipl_data = pd.read_csv(\"/content/IPL_BallByBall2008_2024(Updated).csv\")"
      ],
      "metadata": {
        "colab": {
          "base_uri": "https://localhost:8080/"
        },
        "id": "uuhN1gGAOqgz",
        "outputId": "d3f06ed9-23d3-4d44-c9ac-a39c24c8dde8"
      },
      "execution_count": null,
      "outputs": [
        {
          "output_type": "stream",
          "name": "stderr",
          "text": [
            "<ipython-input-35-19a84651db64>:1: DtypeWarning: Columns (2) have mixed types. Specify dtype option on import or set low_memory=False.\n",
            "  ipl_data = pd.read_csv(\"/content/IPL_BallByBall2008_2024(Updated).csv\")\n"
          ]
        }
      ]
    },
    {
      "cell_type": "code",
      "source": [
        "ipl_data.head(5)"
      ],
      "metadata": {
        "colab": {
          "base_uri": "https://localhost:8080/",
          "height": 434
        },
        "id": "D6vqBeeGYfaI",
        "outputId": "3962318c-afb5-42a1-f541-605f9ddd2f2e"
      },
      "execution_count": null,
      "outputs": [
        {
          "output_type": "execute_result",
          "data": {
            "text/plain": [
              "   Match id        Date   Season           Batting team  \\\n",
              "0    335982  2008-04-18  2007/08  Kolkata Knight Riders   \n",
              "1    335982  2008-04-18  2007/08  Kolkata Knight Riders   \n",
              "2    335982  2008-04-18  2007/08  Kolkata Knight Riders   \n",
              "3    335982  2008-04-18  2007/08  Kolkata Knight Riders   \n",
              "4    335982  2008-04-18  2007/08  Kolkata Knight Riders   \n",
              "\n",
              "                  Bowling team  Innings No  Ball No   Bowler      Striker  \\\n",
              "0  Royal Challengers Bangalore           1      0.1  P Kumar   SC Ganguly   \n",
              "1  Royal Challengers Bangalore           1      0.2  P Kumar  BB McCullum   \n",
              "2  Royal Challengers Bangalore           1      0.2  P Kumar  BB McCullum   \n",
              "3  Royal Challengers Bangalore           1      0.3  P Kumar  BB McCullum   \n",
              "4  Royal Challengers Bangalore           1      0.4  P Kumar  BB McCullum   \n",
              "\n",
              "   Non Striker  runs_scored  extras type of extras  score score/wicket  \\\n",
              "0  BB McCullum            0       1        legbyes      1          1/0   \n",
              "1   SC Ganguly            0       0            NaN      1          1/0   \n",
              "2   SC Ganguly            0       1          wides      2          2/0   \n",
              "3   SC Ganguly            0       0            NaN      2          2/0   \n",
              "4   SC Ganguly            0       0            NaN      2          2/0   \n",
              "\n",
              "   wicket_confirmation wicket_type fielders_involved Player Out  \n",
              "0                    0         NaN               NaN        NaN  \n",
              "1                    0         NaN               NaN        NaN  \n",
              "2                    0         NaN               NaN        NaN  \n",
              "3                    0         NaN               NaN        NaN  \n",
              "4                    0         NaN               NaN        NaN  "
            ],
            "text/html": [
              "\n",
              "  <div id=\"df-165e3a2b-386c-4087-94d8-48b8caf492d4\" class=\"colab-df-container\">\n",
              "    <div>\n",
              "<style scoped>\n",
              "    .dataframe tbody tr th:only-of-type {\n",
              "        vertical-align: middle;\n",
              "    }\n",
              "\n",
              "    .dataframe tbody tr th {\n",
              "        vertical-align: top;\n",
              "    }\n",
              "\n",
              "    .dataframe thead th {\n",
              "        text-align: right;\n",
              "    }\n",
              "</style>\n",
              "<table border=\"1\" class=\"dataframe\">\n",
              "  <thead>\n",
              "    <tr style=\"text-align: right;\">\n",
              "      <th></th>\n",
              "      <th>Match id</th>\n",
              "      <th>Date</th>\n",
              "      <th>Season</th>\n",
              "      <th>Batting team</th>\n",
              "      <th>Bowling team</th>\n",
              "      <th>Innings No</th>\n",
              "      <th>Ball No</th>\n",
              "      <th>Bowler</th>\n",
              "      <th>Striker</th>\n",
              "      <th>Non Striker</th>\n",
              "      <th>runs_scored</th>\n",
              "      <th>extras</th>\n",
              "      <th>type of extras</th>\n",
              "      <th>score</th>\n",
              "      <th>score/wicket</th>\n",
              "      <th>wicket_confirmation</th>\n",
              "      <th>wicket_type</th>\n",
              "      <th>fielders_involved</th>\n",
              "      <th>Player Out</th>\n",
              "    </tr>\n",
              "  </thead>\n",
              "  <tbody>\n",
              "    <tr>\n",
              "      <th>0</th>\n",
              "      <td>335982</td>\n",
              "      <td>2008-04-18</td>\n",
              "      <td>2007/08</td>\n",
              "      <td>Kolkata Knight Riders</td>\n",
              "      <td>Royal Challengers Bangalore</td>\n",
              "      <td>1</td>\n",
              "      <td>0.1</td>\n",
              "      <td>P Kumar</td>\n",
              "      <td>SC Ganguly</td>\n",
              "      <td>BB McCullum</td>\n",
              "      <td>0</td>\n",
              "      <td>1</td>\n",
              "      <td>legbyes</td>\n",
              "      <td>1</td>\n",
              "      <td>1/0</td>\n",
              "      <td>0</td>\n",
              "      <td>NaN</td>\n",
              "      <td>NaN</td>\n",
              "      <td>NaN</td>\n",
              "    </tr>\n",
              "    <tr>\n",
              "      <th>1</th>\n",
              "      <td>335982</td>\n",
              "      <td>2008-04-18</td>\n",
              "      <td>2007/08</td>\n",
              "      <td>Kolkata Knight Riders</td>\n",
              "      <td>Royal Challengers Bangalore</td>\n",
              "      <td>1</td>\n",
              "      <td>0.2</td>\n",
              "      <td>P Kumar</td>\n",
              "      <td>BB McCullum</td>\n",
              "      <td>SC Ganguly</td>\n",
              "      <td>0</td>\n",
              "      <td>0</td>\n",
              "      <td>NaN</td>\n",
              "      <td>1</td>\n",
              "      <td>1/0</td>\n",
              "      <td>0</td>\n",
              "      <td>NaN</td>\n",
              "      <td>NaN</td>\n",
              "      <td>NaN</td>\n",
              "    </tr>\n",
              "    <tr>\n",
              "      <th>2</th>\n",
              "      <td>335982</td>\n",
              "      <td>2008-04-18</td>\n",
              "      <td>2007/08</td>\n",
              "      <td>Kolkata Knight Riders</td>\n",
              "      <td>Royal Challengers Bangalore</td>\n",
              "      <td>1</td>\n",
              "      <td>0.2</td>\n",
              "      <td>P Kumar</td>\n",
              "      <td>BB McCullum</td>\n",
              "      <td>SC Ganguly</td>\n",
              "      <td>0</td>\n",
              "      <td>1</td>\n",
              "      <td>wides</td>\n",
              "      <td>2</td>\n",
              "      <td>2/0</td>\n",
              "      <td>0</td>\n",
              "      <td>NaN</td>\n",
              "      <td>NaN</td>\n",
              "      <td>NaN</td>\n",
              "    </tr>\n",
              "    <tr>\n",
              "      <th>3</th>\n",
              "      <td>335982</td>\n",
              "      <td>2008-04-18</td>\n",
              "      <td>2007/08</td>\n",
              "      <td>Kolkata Knight Riders</td>\n",
              "      <td>Royal Challengers Bangalore</td>\n",
              "      <td>1</td>\n",
              "      <td>0.3</td>\n",
              "      <td>P Kumar</td>\n",
              "      <td>BB McCullum</td>\n",
              "      <td>SC Ganguly</td>\n",
              "      <td>0</td>\n",
              "      <td>0</td>\n",
              "      <td>NaN</td>\n",
              "      <td>2</td>\n",
              "      <td>2/0</td>\n",
              "      <td>0</td>\n",
              "      <td>NaN</td>\n",
              "      <td>NaN</td>\n",
              "      <td>NaN</td>\n",
              "    </tr>\n",
              "    <tr>\n",
              "      <th>4</th>\n",
              "      <td>335982</td>\n",
              "      <td>2008-04-18</td>\n",
              "      <td>2007/08</td>\n",
              "      <td>Kolkata Knight Riders</td>\n",
              "      <td>Royal Challengers Bangalore</td>\n",
              "      <td>1</td>\n",
              "      <td>0.4</td>\n",
              "      <td>P Kumar</td>\n",
              "      <td>BB McCullum</td>\n",
              "      <td>SC Ganguly</td>\n",
              "      <td>0</td>\n",
              "      <td>0</td>\n",
              "      <td>NaN</td>\n",
              "      <td>2</td>\n",
              "      <td>2/0</td>\n",
              "      <td>0</td>\n",
              "      <td>NaN</td>\n",
              "      <td>NaN</td>\n",
              "      <td>NaN</td>\n",
              "    </tr>\n",
              "  </tbody>\n",
              "</table>\n",
              "</div>\n",
              "    <div class=\"colab-df-buttons\">\n",
              "\n",
              "  <div class=\"colab-df-container\">\n",
              "    <button class=\"colab-df-convert\" onclick=\"convertToInteractive('df-165e3a2b-386c-4087-94d8-48b8caf492d4')\"\n",
              "            title=\"Convert this dataframe to an interactive table.\"\n",
              "            style=\"display:none;\">\n",
              "\n",
              "  <svg xmlns=\"http://www.w3.org/2000/svg\" height=\"24px\" viewBox=\"0 -960 960 960\">\n",
              "    <path d=\"M120-120v-720h720v720H120Zm60-500h600v-160H180v160Zm220 220h160v-160H400v160Zm0 220h160v-160H400v160ZM180-400h160v-160H180v160Zm440 0h160v-160H620v160ZM180-180h160v-160H180v160Zm440 0h160v-160H620v160Z\"/>\n",
              "  </svg>\n",
              "    </button>\n",
              "\n",
              "  <style>\n",
              "    .colab-df-container {\n",
              "      display:flex;\n",
              "      gap: 12px;\n",
              "    }\n",
              "\n",
              "    .colab-df-convert {\n",
              "      background-color: #E8F0FE;\n",
              "      border: none;\n",
              "      border-radius: 50%;\n",
              "      cursor: pointer;\n",
              "      display: none;\n",
              "      fill: #1967D2;\n",
              "      height: 32px;\n",
              "      padding: 0 0 0 0;\n",
              "      width: 32px;\n",
              "    }\n",
              "\n",
              "    .colab-df-convert:hover {\n",
              "      background-color: #E2EBFA;\n",
              "      box-shadow: 0px 1px 2px rgba(60, 64, 67, 0.3), 0px 1px 3px 1px rgba(60, 64, 67, 0.15);\n",
              "      fill: #174EA6;\n",
              "    }\n",
              "\n",
              "    .colab-df-buttons div {\n",
              "      margin-bottom: 4px;\n",
              "    }\n",
              "\n",
              "    [theme=dark] .colab-df-convert {\n",
              "      background-color: #3B4455;\n",
              "      fill: #D2E3FC;\n",
              "    }\n",
              "\n",
              "    [theme=dark] .colab-df-convert:hover {\n",
              "      background-color: #434B5C;\n",
              "      box-shadow: 0px 1px 3px 1px rgba(0, 0, 0, 0.15);\n",
              "      filter: drop-shadow(0px 1px 2px rgba(0, 0, 0, 0.3));\n",
              "      fill: #FFFFFF;\n",
              "    }\n",
              "  </style>\n",
              "\n",
              "    <script>\n",
              "      const buttonEl =\n",
              "        document.querySelector('#df-165e3a2b-386c-4087-94d8-48b8caf492d4 button.colab-df-convert');\n",
              "      buttonEl.style.display =\n",
              "        google.colab.kernel.accessAllowed ? 'block' : 'none';\n",
              "\n",
              "      async function convertToInteractive(key) {\n",
              "        const element = document.querySelector('#df-165e3a2b-386c-4087-94d8-48b8caf492d4');\n",
              "        const dataTable =\n",
              "          await google.colab.kernel.invokeFunction('convertToInteractive',\n",
              "                                                    [key], {});\n",
              "        if (!dataTable) return;\n",
              "\n",
              "        const docLinkHtml = 'Like what you see? Visit the ' +\n",
              "          '<a target=\"_blank\" href=https://colab.research.google.com/notebooks/data_table.ipynb>data table notebook</a>'\n",
              "          + ' to learn more about interactive tables.';\n",
              "        element.innerHTML = '';\n",
              "        dataTable['output_type'] = 'display_data';\n",
              "        await google.colab.output.renderOutput(dataTable, element);\n",
              "        const docLink = document.createElement('div');\n",
              "        docLink.innerHTML = docLinkHtml;\n",
              "        element.appendChild(docLink);\n",
              "      }\n",
              "    </script>\n",
              "  </div>\n",
              "\n",
              "\n",
              "<div id=\"df-92c7b836-92ac-4d82-8cc6-7307d9a8cac7\">\n",
              "  <button class=\"colab-df-quickchart\" onclick=\"quickchart('df-92c7b836-92ac-4d82-8cc6-7307d9a8cac7')\"\n",
              "            title=\"Suggest charts\"\n",
              "            style=\"display:none;\">\n",
              "\n",
              "<svg xmlns=\"http://www.w3.org/2000/svg\" height=\"24px\"viewBox=\"0 0 24 24\"\n",
              "     width=\"24px\">\n",
              "    <g>\n",
              "        <path d=\"M19 3H5c-1.1 0-2 .9-2 2v14c0 1.1.9 2 2 2h14c1.1 0 2-.9 2-2V5c0-1.1-.9-2-2-2zM9 17H7v-7h2v7zm4 0h-2V7h2v10zm4 0h-2v-4h2v4z\"/>\n",
              "    </g>\n",
              "</svg>\n",
              "  </button>\n",
              "\n",
              "<style>\n",
              "  .colab-df-quickchart {\n",
              "      --bg-color: #E8F0FE;\n",
              "      --fill-color: #1967D2;\n",
              "      --hover-bg-color: #E2EBFA;\n",
              "      --hover-fill-color: #174EA6;\n",
              "      --disabled-fill-color: #AAA;\n",
              "      --disabled-bg-color: #DDD;\n",
              "  }\n",
              "\n",
              "  [theme=dark] .colab-df-quickchart {\n",
              "      --bg-color: #3B4455;\n",
              "      --fill-color: #D2E3FC;\n",
              "      --hover-bg-color: #434B5C;\n",
              "      --hover-fill-color: #FFFFFF;\n",
              "      --disabled-bg-color: #3B4455;\n",
              "      --disabled-fill-color: #666;\n",
              "  }\n",
              "\n",
              "  .colab-df-quickchart {\n",
              "    background-color: var(--bg-color);\n",
              "    border: none;\n",
              "    border-radius: 50%;\n",
              "    cursor: pointer;\n",
              "    display: none;\n",
              "    fill: var(--fill-color);\n",
              "    height: 32px;\n",
              "    padding: 0;\n",
              "    width: 32px;\n",
              "  }\n",
              "\n",
              "  .colab-df-quickchart:hover {\n",
              "    background-color: var(--hover-bg-color);\n",
              "    box-shadow: 0 1px 2px rgba(60, 64, 67, 0.3), 0 1px 3px 1px rgba(60, 64, 67, 0.15);\n",
              "    fill: var(--button-hover-fill-color);\n",
              "  }\n",
              "\n",
              "  .colab-df-quickchart-complete:disabled,\n",
              "  .colab-df-quickchart-complete:disabled:hover {\n",
              "    background-color: var(--disabled-bg-color);\n",
              "    fill: var(--disabled-fill-color);\n",
              "    box-shadow: none;\n",
              "  }\n",
              "\n",
              "  .colab-df-spinner {\n",
              "    border: 2px solid var(--fill-color);\n",
              "    border-color: transparent;\n",
              "    border-bottom-color: var(--fill-color);\n",
              "    animation:\n",
              "      spin 1s steps(1) infinite;\n",
              "  }\n",
              "\n",
              "  @keyframes spin {\n",
              "    0% {\n",
              "      border-color: transparent;\n",
              "      border-bottom-color: var(--fill-color);\n",
              "      border-left-color: var(--fill-color);\n",
              "    }\n",
              "    20% {\n",
              "      border-color: transparent;\n",
              "      border-left-color: var(--fill-color);\n",
              "      border-top-color: var(--fill-color);\n",
              "    }\n",
              "    30% {\n",
              "      border-color: transparent;\n",
              "      border-left-color: var(--fill-color);\n",
              "      border-top-color: var(--fill-color);\n",
              "      border-right-color: var(--fill-color);\n",
              "    }\n",
              "    40% {\n",
              "      border-color: transparent;\n",
              "      border-right-color: var(--fill-color);\n",
              "      border-top-color: var(--fill-color);\n",
              "    }\n",
              "    60% {\n",
              "      border-color: transparent;\n",
              "      border-right-color: var(--fill-color);\n",
              "    }\n",
              "    80% {\n",
              "      border-color: transparent;\n",
              "      border-right-color: var(--fill-color);\n",
              "      border-bottom-color: var(--fill-color);\n",
              "    }\n",
              "    90% {\n",
              "      border-color: transparent;\n",
              "      border-bottom-color: var(--fill-color);\n",
              "    }\n",
              "  }\n",
              "</style>\n",
              "\n",
              "  <script>\n",
              "    async function quickchart(key) {\n",
              "      const quickchartButtonEl =\n",
              "        document.querySelector('#' + key + ' button');\n",
              "      quickchartButtonEl.disabled = true;  // To prevent multiple clicks.\n",
              "      quickchartButtonEl.classList.add('colab-df-spinner');\n",
              "      try {\n",
              "        const charts = await google.colab.kernel.invokeFunction(\n",
              "            'suggestCharts', [key], {});\n",
              "      } catch (error) {\n",
              "        console.error('Error during call to suggestCharts:', error);\n",
              "      }\n",
              "      quickchartButtonEl.classList.remove('colab-df-spinner');\n",
              "      quickchartButtonEl.classList.add('colab-df-quickchart-complete');\n",
              "    }\n",
              "    (() => {\n",
              "      let quickchartButtonEl =\n",
              "        document.querySelector('#df-92c7b836-92ac-4d82-8cc6-7307d9a8cac7 button');\n",
              "      quickchartButtonEl.style.display =\n",
              "        google.colab.kernel.accessAllowed ? 'block' : 'none';\n",
              "    })();\n",
              "  </script>\n",
              "</div>\n",
              "\n",
              "    </div>\n",
              "  </div>\n"
            ],
            "application/vnd.google.colaboratory.intrinsic+json": {
              "type": "dataframe",
              "variable_name": "ipl_data"
            }
          },
          "metadata": {},
          "execution_count": 36
        }
      ]
    },
    {
      "cell_type": "markdown",
      "source": [
        "Match Analysis"
      ],
      "metadata": {
        "id": "-TTvY7A7NTPu"
      }
    },
    {
      "cell_type": "markdown",
      "source": [
        "1. Total runs scored in each match"
      ],
      "metadata": {
        "id": "INVMFd35NgHA"
      }
    },
    {
      "cell_type": "code",
      "source": [
        "# Total runs scored in each match\n",
        "total_runs_per_match = ipl_data.groupby('Match id')['runs_scored'].sum().reset_index()\n",
        "total_runs_per_match.columns = ['Match id', 'Total Runs']\n",
        "print(total_runs_per_match)"
      ],
      "metadata": {
        "colab": {
          "base_uri": "https://localhost:8080/"
        },
        "id": "A1vSy_zZNkxH",
        "outputId": "73231b05-7cdd-4d56-bc05-51c09f9e39cd"
      },
      "execution_count": null,
      "outputs": [
        {
          "output_type": "stream",
          "name": "stdout",
          "text": [
            "      Match id  Total Runs\n",
            "0       335982         268\n",
            "1       335983         430\n",
            "2       335984         244\n",
            "3       335985         315\n",
            "4       335986         184\n",
            "...        ...         ...\n",
            "1068   1426283         383\n",
            "1069   1426284         334\n",
            "1070   1426285         293\n",
            "1071   1426286         270\n",
            "1072   1426287         297\n",
            "\n",
            "[1073 rows x 2 columns]\n"
          ]
        }
      ]
    },
    {
      "cell_type": "markdown",
      "source": [
        "2. Total wickets taken in each match"
      ],
      "metadata": {
        "id": "UUgqIIftPOHK"
      }
    },
    {
      "cell_type": "code",
      "source": [
        "# Total wickets taken in each match\n",
        "total_wickets_per_match = ipl_data[ipl_data['wicket_confirmation'] == 1].groupby('Match id').size().reset_index(name='Total Wickets')\n",
        "print(total_wickets_per_match)"
      ],
      "metadata": {
        "id": "uEY9vsf_PNU1",
        "colab": {
          "base_uri": "https://localhost:8080/"
        },
        "outputId": "00dddfde-1e13-4753-efb5-755b195da8c7"
      },
      "execution_count": null,
      "outputs": [
        {
          "output_type": "stream",
          "name": "stdout",
          "text": [
            "      Match id  Total Wickets\n",
            "0       335982             13\n",
            "1       335983              9\n",
            "2       335984              9\n",
            "3       335985             12\n",
            "4       335986             15\n",
            "...        ...            ...\n",
            "1068   1426283              4\n",
            "1069   1426284             13\n",
            "1070   1426285             12\n",
            "1071   1426286             13\n",
            "1072   1426287             10\n",
            "\n",
            "[1073 rows x 2 columns]\n"
          ]
        }
      ]
    },
    {
      "cell_type": "markdown",
      "source": [
        "3. Runs scored by each team in different matches"
      ],
      "metadata": {
        "id": "E00x9O9-Utny"
      }
    },
    {
      "cell_type": "code",
      "source": [
        "# Runs scored by each team in different matches\n",
        "runs_per_team_per_match = ipl_data.groupby(['Match id', 'Batting team'])['runs_scored'].sum().reset_index()\n",
        "runs_per_team_per_match.columns = ['Match id', 'Batting team', 'Total Runs']\n",
        "print(runs_per_team_per_match)"
      ],
      "metadata": {
        "colab": {
          "base_uri": "https://localhost:8080/"
        },
        "id": "KMmI-e-sUmJu",
        "outputId": "fc0fc5ec-de03-40ec-e384-5256c52b139c"
      },
      "execution_count": null,
      "outputs": [
        {
          "output_type": "stream",
          "name": "stdout",
          "text": [
            "      Match id                 Batting team  Total Runs\n",
            "0       335982        Kolkata Knight Riders         205\n",
            "1       335982  Royal Challengers Bangalore          63\n",
            "2       335983          Chennai Super Kings         234\n",
            "3       335983              Kings XI Punjab         196\n",
            "4       335984             Delhi Daredevils         122\n",
            "...        ...                          ...         ...\n",
            "2138   1426285        Kolkata Knight Riders         153\n",
            "2139   1426286         Lucknow Super Giants         134\n",
            "2140   1426286               Mumbai Indians         136\n",
            "2141   1426287          Chennai Super Kings         144\n",
            "2142   1426287                 Punjab Kings         153\n",
            "\n",
            "[2143 rows x 3 columns]\n"
          ]
        }
      ]
    },
    {
      "cell_type": "markdown",
      "source": [
        "Player Performance"
      ],
      "metadata": {
        "id": "V5v3jppgVfvX"
      }
    },
    {
      "cell_type": "markdown",
      "source": [
        "1. Top run-scorers of each season"
      ],
      "metadata": {
        "id": "PTv3Ox5PVg77"
      }
    },
    {
      "cell_type": "code",
      "source": [
        "# Top run-scorers of each season\n",
        "top_scorers_per_season = ipl_data.groupby(['Season', 'Striker'])['runs_scored'].sum().reset_index()\n",
        "top_scorers_per_season = top_scorers_per_season.sort_values(['Season', 'runs_scored'], ascending=[True, False]).groupby('Season').head(10)\n",
        "print(top_scorers_per_season)"
      ],
      "metadata": {
        "colab": {
          "base_uri": "https://localhost:8080/"
        },
        "id": "Chr31OJJVq15",
        "outputId": "20a6653c-db81-4a6b-f128-b5bcf8798ec1"
      },
      "execution_count": null,
      "outputs": [
        {
          "output_type": "stream",
          "name": "stdout",
          "text": [
            "     Season         Striker  runs_scored\n",
            "29     2012        CH Gayle          487\n",
            "46     2012       G Gambhir          411\n",
            "31     2012        CL White          361\n",
            "136    2012        V Sehwag          342\n",
            "61     2012       JH Kallis          316\n",
            "...     ...             ...          ...\n",
            "2729   2021  AB de Villiers          125\n",
            "2807   2021       SV Samson          124\n",
            "2802   2021        SA Yadav          121\n",
            "2759   2021     JM Bairstow          110\n",
            "2775   2021          MM Ali          108\n",
            "\n",
            "[200 rows x 3 columns]\n"
          ]
        }
      ]
    },
    {
      "cell_type": "markdown",
      "source": [
        "2. Most wickets taken by bowlers each season"
      ],
      "metadata": {
        "id": "SJBDSa3vVvm0"
      }
    },
    {
      "cell_type": "code",
      "source": [
        "# Most wickets taken by bowlers each season\n",
        "wickets_per_bowler_per_season = ipl_data[ipl_data['wicket_confirmation'] == 1].groupby(['Season', 'Bowler']).size().reset_index(name='Total Wickets')\n",
        "wickets_per_bowler_per_season = wickets_per_bowler_per_season.sort_values(['Season', 'Total Wickets'], ascending=[True, False]).groupby('Season').head(10)\n",
        "print(wickets_per_bowler_per_season)"
      ],
      "metadata": {
        "colab": {
          "base_uri": "https://localhost:8080/"
        },
        "id": "023Gyk5uVuGh",
        "outputId": "13c5eec9-2f06-4206-be46-04e7fdf37603"
      },
      "execution_count": null,
      "outputs": [
        {
          "output_type": "stream",
          "name": "stdout",
          "text": [
            "     Season             Bowler  Total Wickets\n",
            "75     2012          SP Narine             21\n",
            "21     2012           DJ Bravo             17\n",
            "80     2012           UT Yadav             16\n",
            "15     2012      Azhar Mahmood             14\n",
            "19     2012      BW Hilfenhaus             14\n",
            "...     ...                ...            ...\n",
            "1687   2021         C Sakariya              6\n",
            "1713   2021  Mustafizur Rahman              6\n",
            "1684   2021     Arshdeep Singh              5\n",
            "1688   2021          CH Morris              5\n",
            "1689   2021          CR Woakes              5\n",
            "\n",
            "[200 rows x 3 columns]\n"
          ]
        }
      ]
    },
    {
      "cell_type": "markdown",
      "source": [
        "3. Consistent performers across multiple seasons"
      ],
      "metadata": {
        "id": "a0_B6BmsV4Z0"
      }
    },
    {
      "cell_type": "code",
      "source": [
        "# Consistent performers across multiple seasons\n",
        "consistent_scorers = ipl_data.groupby(['Striker', 'Season'])['runs_scored'].sum().reset_index()\n",
        "consistent_scorers = consistent_scorers.groupby('Striker').agg({'Season': 'count', 'runs_scored': 'mean'}).reset_index()\n",
        "consistent_scorers = consistent_scorers[consistent_scorers['Season'] >= 3].sort_values('runs_scored', ascending=False)\n",
        "print(consistent_scorers)"
      ],
      "metadata": {
        "colab": {
          "base_uri": "https://localhost:8080/"
        },
        "id": "ZvYwVgqFV3EP",
        "outputId": "8eb2b2ff-ec95-4fcf-9e5c-958d119c58f0"
      },
      "execution_count": null,
      "outputs": [
        {
          "output_type": "stream",
          "name": "stdout",
          "text": [
            "               Striker  Season  runs_scored\n",
            "624            V Kohli      19   409.105263\n",
            "145          DA Warner      17   386.235294\n",
            "469         RD Gaikwad       6   384.333333\n",
            "286           KL Rahul      12   381.250000\n",
            "361          ML Hayden       3   369.000000\n",
            "..                 ...     ...          ...\n",
            "436            PP Ojha       7     2.285714\n",
            "333  M Prasidh Krishna       5     1.800000\n",
            "100         BAW Mendis       3     1.000000\n",
            "15             A Singh       3     0.666667\n",
            "282           KK Ahmed       4     0.250000\n",
            "\n",
            "[348 rows x 3 columns]\n"
          ]
        }
      ]
    },
    {
      "cell_type": "markdown",
      "source": [
        "Team Performance"
      ],
      "metadata": {
        "id": "hF1cHgorWEl_"
      }
    },
    {
      "cell_type": "markdown",
      "source": [
        "1. Team-wise performance in different seasons"
      ],
      "metadata": {
        "id": "PxfwW8l0WEXB"
      }
    },
    {
      "cell_type": "code",
      "source": [
        "# Team-wise performance in different seasons\n",
        "team_performance_per_season = ipl_data.groupby(['Season', 'Batting team'])['runs_scored'].sum().reset_index()\n",
        "team_performance_per_season = team_performance_per_season.sort_values(['Season', 'runs_scored'], ascending=[True, False])\n",
        "print(team_performance_per_season)"
      ],
      "metadata": {
        "colab": {
          "base_uri": "https://localhost:8080/"
        },
        "id": "_0kBhVitV-g1",
        "outputId": "fc251ef2-d2dc-4d17-c642-2c0a9f88d22b"
      },
      "execution_count": null,
      "outputs": [
        {
          "output_type": "stream",
          "name": "stdout",
          "text": [
            "    Season                 Batting team  runs_scored\n",
            "0     2012          Chennai Super Kings         1672\n",
            "4     2012        Kolkata Knight Riders         1602\n",
            "2     2012             Delhi Daredevils         1580\n",
            "5     2012               Mumbai Indians         1559\n",
            "8     2012  Royal Challengers Bangalore         1428\n",
            "..     ...                          ...          ...\n",
            "164   2021             Rajasthan Royals          485\n",
            "165   2021  Royal Challengers Bangalore          483\n",
            "161   2021        Kolkata Knight Riders          472\n",
            "159   2021          Chennai Super Kings          452\n",
            "166   2021          Sunrisers Hyderabad          433\n",
            "\n",
            "[167 rows x 3 columns]\n"
          ]
        }
      ]
    },
    {
      "cell_type": "markdown",
      "source": [
        "2. Head-to-head performance of different teams"
      ],
      "metadata": {
        "id": "vjl_YEXYWWaw"
      }
    },
    {
      "cell_type": "code",
      "source": [
        "# Head-to-head performance of different teams\n",
        "head_to_head_performance = ipl_data.groupby(['Batting team', 'Bowling team'])['runs_scored'].sum().reset_index()\n",
        "head_to_head_performance = head_to_head_performance.sort_values('runs_scored', ascending=False)\n",
        "print(head_to_head_performance)"
      ],
      "metadata": {
        "colab": {
          "base_uri": "https://localhost:8080/"
        },
        "id": "ZgI-5NerWSWq",
        "outputId": "dd818eb2-5612-45e4-c5b7-c6431afcc6d8"
      },
      "execution_count": null,
      "outputs": [
        {
          "output_type": "stream",
          "name": "stdout",
          "text": [
            "                    Batting team                 Bowling team  runs_scored\n",
            "116               Mumbai Indians          Chennai Super Kings         5579\n",
            "8            Chennai Super Kings               Mumbai Indians         5395\n",
            "131               Mumbai Indians  Royal Challengers Bangalore         4979\n",
            "193  Royal Challengers Bangalore               Mumbai Indians         4914\n",
            "124               Mumbai Indians        Kolkata Knight Riders         4792\n",
            "..                           ...                          ...          ...\n",
            "203  Royal Challengers Bengaluru         Lucknow Super Giants          142\n",
            "138                Pune Warriors         Kochi Tuskers Kerala          140\n",
            "85          Kochi Tuskers Kerala                Pune Warriors          137\n",
            "18               Deccan Chargers         Kochi Tuskers Kerala          122\n",
            "80          Kochi Tuskers Kerala              Deccan Chargers           67\n",
            "\n",
            "[224 rows x 3 columns]\n"
          ]
        }
      ]
    },
    {
      "cell_type": "markdown",
      "source": [
        "Inning Analysis"
      ],
      "metadata": {
        "id": "es6-jQFGXDlK"
      }
    },
    {
      "cell_type": "markdown",
      "source": [
        "1. Runs scored in powerplay vs. middle overs vs. death over"
      ],
      "metadata": {
        "id": "jtbg8zMRXIaD"
      }
    },
    {
      "cell_type": "code",
      "source": [
        "# Define over ranges\n",
        "powerplay_overs = range(1, 7)\n",
        "middle_overs = range(7, 16)\n",
        "death_overs = range(16, 21)\n",
        "\n",
        "# Calculate runs in each phase\n",
        "ipl_data['Over'] = ipl_data['Ball No'].apply(lambda x: int(x))\n",
        "powerplay_runs = ipl_data[ipl_data['Over'].isin(powerplay_overs)].groupby(['Match id', 'Batting team'])['runs_scored'].sum().reset_index(name='Powerplay Runs')\n",
        "middle_overs_runs = ipl_data[ipl_data['Over'].isin(middle_overs)].groupby(['Match id', 'Batting team'])['runs_scored'].sum().reset_index(name='Middle Overs Runs')\n",
        "death_overs_runs = ipl_data[ipl_data['Over'].isin(death_overs)].groupby(['Match id', 'Batting team'])['runs_scored'].sum().reset_index(name='Death Overs Runs')\n",
        "\n",
        "# Merge results\n",
        "inning_runs = pd.merge(powerplay_runs, middle_overs_runs, on=['Match id', 'Batting team'])\n",
        "inning_runs = pd.merge(inning_runs, death_overs_runs, on=['Match id', 'Batting team'])\n",
        "print(inning_runs)"
      ],
      "metadata": {
        "colab": {
          "base_uri": "https://localhost:8080/"
        },
        "id": "Bibp3wHLWiSJ",
        "outputId": "43f23a98-603a-477d-de34-7918a28761da"
      },
      "execution_count": null,
      "outputs": [
        {
          "output_type": "stream",
          "name": "stdout",
          "text": [
            "      Match id           Batting team  Powerplay Runs  Middle Overs Runs  \\\n",
            "0       335982  Kolkata Knight Riders              57                 84   \n",
            "1       335983    Chennai Super Kings              53                104   \n",
            "2       335983        Kings XI Punjab              60                100   \n",
            "3       335984       Rajasthan Royals              41                 56   \n",
            "4       335985         Mumbai Indians              40                 56   \n",
            "...        ...                    ...             ...                ...   \n",
            "2008   1426285  Kolkata Knight Riders              64                 62   \n",
            "2009   1426286   Lucknow Super Giants              54                 60   \n",
            "2010   1426286         Mumbai Indians              31                 66   \n",
            "2011   1426287    Chennai Super Kings              51                 44   \n",
            "2012   1426287           Punjab Kings              46                 84   \n",
            "\n",
            "      Death Overs Runs  \n",
            "0                   64  \n",
            "1                   72  \n",
            "2                   31  \n",
            "3                   25  \n",
            "4                   50  \n",
            "...                ...  \n",
            "2008                12  \n",
            "2009                19  \n",
            "2010                38  \n",
            "2011                46  \n",
            "2012                12  \n",
            "\n",
            "[2013 rows x 5 columns]\n"
          ]
        }
      ]
    },
    {
      "cell_type": "markdown",
      "source": [
        "2. Wicket patterns in different phases of an inning"
      ],
      "metadata": {
        "id": "SwRbZx2JXP0P"
      }
    },
    {
      "cell_type": "code",
      "source": [
        "# Calculate wickets in each phase\n",
        "powerplay_wickets = ipl_data[(ipl_data['Over'].isin(powerplay_overs)) & (ipl_data['wicket_confirmation'] == 1)].groupby(['Match id', 'Batting team']).size().reset_index(name='Powerplay Wickets')\n",
        "middle_overs_wickets = ipl_data[(ipl_data['Over'].isin(middle_overs)) & (ipl_data['wicket_confirmation'] == 1)].groupby(['Match id', 'Batting team']).size().reset_index(name='Middle Overs Wickets')\n",
        "death_overs_wickets = ipl_data[(ipl_data['Over'].isin(death_overs)) & (ipl_data['wicket_confirmation'] == 1)].groupby(['Match id', 'Batting team']).size().reset_index(name='Death Overs Wickets')\n",
        "\n",
        "# Merge results\n",
        "inning_wickets = pd.merge(powerplay_wickets, middle_overs_wickets, on=['Match id', 'Batting team'])\n",
        "inning_wickets = pd.merge(inning_wickets, death_overs_wickets, on=['Match id', 'Batting team'])\n",
        "print(inning_wickets)"
      ],
      "metadata": {
        "colab": {
          "base_uri": "https://localhost:8080/"
        },
        "id": "GdB2ThlXXLIu",
        "outputId": "69d841d2-7248-4db7-df1e-d0ec2fabfbba"
      },
      "execution_count": null,
      "outputs": [
        {
          "output_type": "stream",
          "name": "stdout",
          "text": [
            "      Match id                 Batting team  Powerplay Wickets  \\\n",
            "0       335982        Kolkata Knight Riders                  1   \n",
            "1       335983              Kings XI Punjab                  1   \n",
            "2       335984             Rajasthan Royals                  3   \n",
            "3       335985               Mumbai Indians                  3   \n",
            "4       335985  Royal Challengers Bangalore                  1   \n",
            "...        ...                          ...                ...   \n",
            "1277   1426282         Lucknow Super Giants                  1   \n",
            "1278   1426284          Chennai Super Kings                  1   \n",
            "1279   1426284          Sunrisers Hyderabad                  3   \n",
            "1280   1426285               Delhi Capitals                  4   \n",
            "1281   1426286               Mumbai Indians                  4   \n",
            "\n",
            "      Middle Overs Wickets  Death Overs Wickets  \n",
            "0                        1                    1  \n",
            "1                        2                    1  \n",
            "2                        4                    1  \n",
            "3                        1                    3  \n",
            "4                        3                    1  \n",
            "...                    ...                  ...  \n",
            "1277                     2                    1  \n",
            "1278                     1                    1  \n",
            "1279                     3                    4  \n",
            "1280                     4                    1  \n",
            "1281                     1                    2  \n",
            "\n",
            "[1282 rows x 5 columns]\n"
          ]
        }
      ]
    },
    {
      "cell_type": "markdown",
      "source": [
        "3. Impact of extras on the final score"
      ],
      "metadata": {
        "id": "zmI2gPOAXWyn"
      }
    },
    {
      "cell_type": "code",
      "source": [
        "# Impact of extras on the final score\n",
        "extras_impact = ipl_data.groupby(['Match id', 'Batting team']).agg({'runs_scored': 'sum', 'extras': 'sum'}).reset_index()\n",
        "extras_impact['Percentage of Extras'] = (extras_impact['extras'] / extras_impact['runs_scored']) * 100\n",
        "print(extras_impact)"
      ],
      "metadata": {
        "colab": {
          "base_uri": "https://localhost:8080/"
        },
        "id": "Pku1ZGPiXTDr",
        "outputId": "f2fdebf2-5cc2-4898-a621-93a0235b6e8a"
      },
      "execution_count": null,
      "outputs": [
        {
          "output_type": "stream",
          "name": "stdout",
          "text": [
            "      Match id                 Batting team  runs_scored  extras  \\\n",
            "0       335982        Kolkata Knight Riders          205      17   \n",
            "1       335982  Royal Challengers Bangalore           63      19   \n",
            "2       335983          Chennai Super Kings          234       6   \n",
            "3       335983              Kings XI Punjab          196      11   \n",
            "4       335984             Delhi Daredevils          122      10   \n",
            "...        ...                          ...          ...     ...   \n",
            "2138   1426285        Kolkata Knight Riders          153       4   \n",
            "2139   1426286         Lucknow Super Giants          134      11   \n",
            "2140   1426286               Mumbai Indians          136       8   \n",
            "2141   1426287          Chennai Super Kings          144      18   \n",
            "2142   1426287                 Punjab Kings          153      10   \n",
            "\n",
            "      Percentage of Extras  \n",
            "0                 8.292683  \n",
            "1                30.158730  \n",
            "2                 2.564103  \n",
            "3                 5.612245  \n",
            "4                 8.196721  \n",
            "...                    ...  \n",
            "2138              2.614379  \n",
            "2139              8.208955  \n",
            "2140              5.882353  \n",
            "2141             12.500000  \n",
            "2142              6.535948  \n",
            "\n",
            "[2143 rows x 5 columns]\n"
          ]
        }
      ]
    },
    {
      "cell_type": "markdown",
      "source": [
        "Ball-by-Ball Analysis"
      ],
      "metadata": {
        "id": "vsxCHSLRXcXX"
      }
    },
    {
      "cell_type": "markdown",
      "source": [
        "1. Dot ball percentage for different bowlers"
      ],
      "metadata": {
        "id": "7T8TDzLmXcgT"
      }
    },
    {
      "cell_type": "code",
      "source": [
        "# Dot ball percentage for different bowlers\n",
        "dot_balls = ipl_data[ipl_data['runs_scored'] == 0].groupby('Bowler').size().reset_index(name='Dot Balls')\n",
        "total_balls = ipl_data.groupby('Bowler').size().reset_index(name='Total Balls')\n",
        "dot_ball_percentage = pd.merge(dot_balls, total_balls, on='Bowler')\n",
        "dot_ball_percentage['Dot Ball Percentage'] = (dot_ball_percentage['Dot Balls'] / dot_ball_percentage['Total Balls']) * 100\n",
        "print(dot_ball_percentage)"
      ],
      "metadata": {
        "colab": {
          "base_uri": "https://localhost:8080/"
        },
        "id": "QN9aqxb-XZz9",
        "outputId": "69ef61ea-0a67-41c9-ae36-982f76d7a3fd"
      },
      "execution_count": null,
      "outputs": [
        {
          "output_type": "stream",
          "name": "stdout",
          "text": [
            "             Bowler  Dot Balls  Total Balls  Dot Ball Percentage\n",
            "0    A Ashish Reddy         89          270            32.962963\n",
            "1          A Badoni          6           19            31.578947\n",
            "2        A Chandila        105          234            44.871795\n",
            "3       A Choudhary         49          108            45.370370\n",
            "4       A Dananjaya          7           25            28.000000\n",
            "..              ...        ...          ...                  ...\n",
            "508      Yash Dayal        213          516            41.279070\n",
            "509     Yash Thakur        149          388            38.402062\n",
            "510   Yudhvir Singh         27           50            54.000000\n",
            "511    Yuvraj Singh        282          882            31.972789\n",
            "512          Z Khan       1005         2276            44.156415\n",
            "\n",
            "[513 rows x 4 columns]\n"
          ]
        }
      ]
    },
    {
      "cell_type": "markdown",
      "source": [
        "2. Boundary percentage for different batsmen"
      ],
      "metadata": {
        "id": "hxabyWxQXz00"
      }
    },
    {
      "cell_type": "code",
      "source": [
        "# Boundary percentage for different batsmen\n",
        "boundaries = ipl_data[ipl_data['runs_scored'].isin([4, 6])].groupby('Striker').size().reset_index(name='Boundaries')\n",
        "total_balls_faced = ipl_data.groupby('Striker').size().reset_index(name='Total Balls Faced')\n",
        "boundary_percentage = pd.merge(boundaries, total_balls_faced, on='Striker')\n",
        "boundary_percentage['Boundary Percentage'] = (boundary_percentage['Boundaries'] / boundary_percentage['Total Balls Faced']) * 100\n",
        "print(boundary_percentage)"
      ],
      "metadata": {
        "colab": {
          "base_uri": "https://localhost:8080/"
        },
        "id": "BOlgtRBJXwGH",
        "outputId": "74dff316-55a1-4404-a8c5-56ad45a0f0db"
      },
      "execution_count": null,
      "outputs": [
        {
          "output_type": "stream",
          "name": "stdout",
          "text": [
            "            Striker  Boundaries  Total Balls Faced  Boundary Percentage\n",
            "0    A Ashish Reddy          31                196            15.816327\n",
            "1          A Badoni          57                441            12.925170\n",
            "2          A Chopra           7                 75             9.333333\n",
            "3       A Choudhary           2                 20            10.000000\n",
            "4        A Flintoff           7                 57            12.280702\n",
            "..              ...         ...                ...                  ...\n",
            "552        YV Dhull           1                 23             4.347826\n",
            "553     YV Takawale          29                183            15.846995\n",
            "554   Yashpal Singh           5                 67             7.462687\n",
            "555    Yuvraj Singh         367               2207            16.628908\n",
            "556          Z Khan          13                141             9.219858\n",
            "\n",
            "[557 rows x 4 columns]\n"
          ]
        }
      ]
    },
    {
      "cell_type": "markdown",
      "source": [
        "3. Patterns in scoring and wicket-taking for different bowlers"
      ],
      "metadata": {
        "id": "2MglKW45Y368"
      }
    },
    {
      "cell_type": "code",
      "source": [
        "# Patterns in scoring and wicket-taking for different bowlers\n",
        "bowler_performance = ipl_data.groupby('Bowler').agg({'runs_scored': 'sum', 'wicket_confirmation': 'sum'}).reset_index()\n",
        "print(bowler_performance)"
      ],
      "metadata": {
        "colab": {
          "base_uri": "https://localhost:8080/"
        },
        "id": "90B1Oup6X2_x",
        "outputId": "9fabf4a5-286a-4e4c-bba0-cacf7f3bb006"
      },
      "execution_count": null,
      "outputs": [
        {
          "output_type": "stream",
          "name": "stdout",
          "text": [
            "             Bowler  runs_scored  wicket_confirmation\n",
            "0    A Ashish Reddy          386                   19\n",
            "1          A Badoni           17                    2\n",
            "2        A Chandila          242                   11\n",
            "3       A Choudhary          137                    5\n",
            "4       A Dananjaya           46                    0\n",
            "..              ...          ...                  ...\n",
            "518      Yash Dayal          738                   23\n",
            "519     Yash Thakur          574                   26\n",
            "520   Yudhvir Singh           64                    3\n",
            "521    Yuvraj Singh         1064                   39\n",
            "522          Z Khan         2691                  119\n",
            "\n",
            "[523 rows x 3 columns]\n"
          ]
        }
      ]
    },
    {
      "cell_type": "markdown",
      "source": [
        "Seasonal Trends"
      ],
      "metadata": {
        "id": "jBWxDQCJY_AQ"
      }
    },
    {
      "cell_type": "markdown",
      "source": [
        "1. Overall run rates across seasons"
      ],
      "metadata": {
        "id": "ERcL4y0dZB82"
      }
    },
    {
      "cell_type": "code",
      "source": [
        "# Overall run rates across seasons\n",
        "total_runs_per_season = ipl_data.groupby('Season')['runs_scored'].sum().reset_index(name='Total Runs')\n",
        "total_balls_per_season = ipl_data.groupby('Season').size().reset_index(name='Total Balls')\n",
        "run_rate_per_season = pd.merge(total_runs_per_season, total_balls_per_season, on='Season')\n",
        "run_rate_per_season['Run Rate'] = (run_rate_per_season['Total Runs'] / run_rate_per_season['Total Balls']) * 6\n",
        "print(run_rate_per_season)"
      ],
      "metadata": {
        "colab": {
          "base_uri": "https://localhost:8080/"
        },
        "id": "Hfz4zw_LY8p0",
        "outputId": "322826e0-12b8-4f67-f54f-8f4bc367898d"
      },
      "execution_count": null,
      "outputs": [
        {
          "output_type": "stream",
          "name": "stdout",
          "text": [
            "     Season  Total Runs  Total Balls  Run Rate\n",
            "0      2012       12955        10837  7.172649\n",
            "1      2013       21487        18177  7.092590\n",
            "2      2014       17943        14300  7.528531\n",
            "3      2015       17427        13652  7.659098\n",
            "4      2016       17962        14096  7.645573\n",
            "5      2017       17920        13862  7.756456\n",
            "6      2018       17926        13380  8.038565\n",
            "7      2021       13877        11434  7.281966\n",
            "8      2022       23052        17912  7.721751\n",
            "9      2023       24428        17863  8.205117\n",
            "10     2024       17329        11942  8.706582\n",
            "11  2007/08       16809        13489  7.476759\n",
            "12     2009       15376        13606  6.780538\n",
            "13  2009/10       17754        14498  7.347496\n",
            "14     2011       19928        17013  7.028037\n",
            "15     2012        8368         6930  7.245022\n",
            "16     2018        1172          906  7.761589\n",
            "17     2019       18607        14312  7.800587\n",
            "18  2020/21       18566        14559  7.651350\n",
            "19     2021        3850         2991  7.723170\n"
          ]
        }
      ]
    },
    {
      "cell_type": "markdown",
      "source": [
        "2. Changes in team strategies over the years"
      ],
      "metadata": {
        "id": "XI-uXh8sZIDZ"
      }
    },
    {
      "cell_type": "code",
      "source": [
        "# Changes in team strategies over the years\n",
        "# This is a broader analysis and may involve various metrics like run rates, wicket patterns, etc.\n",
        "# Here's an example of run rate changes for teams over the years\n",
        "\n",
        "team_run_rate_per_season = ipl_data.groupby(['Season', 'Batting team']).agg({'runs_scored': 'sum', 'Ball No': 'count'}).reset_index()\n",
        "team_run_rate_per_season['Run Rate'] = (team_run_rate_per_season['runs_scored'] / team_run_rate_per_season['Ball No']) * 6\n",
        "print(team_run_rate_per_season)"
      ],
      "metadata": {
        "colab": {
          "base_uri": "https://localhost:8080/"
        },
        "id": "30uWy45gZEtd",
        "outputId": "11dddf91-aeff-4e8e-a8a4-3204abb0c65a"
      },
      "execution_count": null,
      "outputs": [
        {
          "output_type": "stream",
          "name": "stdout",
          "text": [
            "    Season                 Batting team  runs_scored  Ball No  Run Rate\n",
            "0     2012          Chennai Super Kings         1672     1316  7.623100\n",
            "1     2012              Deccan Chargers         1365     1151  7.115552\n",
            "2     2012             Delhi Daredevils         1580     1269  7.470449\n",
            "3     2012              Kings XI Punjab         1322     1088  7.290441\n",
            "4     2012        Kolkata Knight Riders         1602     1359  7.072848\n",
            "..     ...                          ...          ...      ...       ...\n",
            "162   2021               Mumbai Indians          506      421  7.211401\n",
            "163   2021                 Punjab Kings          504      372  8.129032\n",
            "164   2021             Rajasthan Royals          485      375  7.760000\n",
            "165   2021  Royal Challengers Bangalore          483      381  7.606299\n",
            "166   2021          Sunrisers Hyderabad          433      371  7.002695\n",
            "\n",
            "[167 rows x 5 columns]\n"
          ]
        }
      ]
    },
    {
      "cell_type": "markdown",
      "source": [
        "3. Evolution of player performances over time"
      ],
      "metadata": {
        "id": "e6Y9QpG9ZHUI"
      }
    },
    {
      "cell_type": "code",
      "source": [
        "# Evolution of player performances over time\n",
        "# Analyzing top players' run contributions over different seasons\n",
        "player_performance_over_time = ipl_data.groupby(['Season', 'Striker'])['runs_scored'].sum().reset_index()\n",
        "top_players_performance = player_performance_over_time.groupby('Striker').filter(lambda x: x['runs_scored'].sum() > 1000)\n",
        "print(top_players_performance)"
      ],
      "metadata": {
        "colab": {
          "base_uri": "https://localhost:8080/"
        },
        "id": "RRLpizEWZP_D",
        "outputId": "443925d6-b595-4cf4-bdc2-678ca721b230"
      },
      "execution_count": null,
      "outputs": [
        {
          "output_type": "stream",
          "name": "stdout",
          "text": [
            "     Season         Striker  runs_scored\n",
            "7      2012  AB de Villiers          150\n",
            "9      2012    AC Gilchrist           73\n",
            "12     2012      AD Russell           47\n",
            "16     2012       AM Rahane          241\n",
            "18     2012       AT Rayudu          241\n",
            "...     ...             ...          ...\n",
            "2807   2021       SV Samson          124\n",
            "2810   2021    Shubman Gill           69\n",
            "2812   2021         V Kohli           71\n",
            "2813   2021       V Shankar           42\n",
            "2815   2021         WP Saha            8\n",
            "\n",
            "[1014 rows x 3 columns]\n"
          ]
        }
      ]
    }
  ]
}